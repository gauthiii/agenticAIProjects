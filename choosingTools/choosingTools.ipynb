{
 "cells": [
  {
   "cell_type": "code",
   "execution_count": null,
   "metadata": {},
   "outputs": [],
   "source": [
    "import json\n",
    "import display_functions\n",
    "from dotenv import load_dotenv\n",
    "_ = load_dotenv()"
   ]
  },
  {
   "cell_type": "code",
   "execution_count": 3,
   "metadata": {},
   "outputs": [],
   "source": [
    "import aisuite as ai\n",
    "\n",
    "# Create an instance of the AISuite client\n",
    "client = ai.Client()"
   ]
  },
  {
   "cell_type": "markdown",
   "metadata": {},
   "source": [
    "### Creating 4 tools\n",
    "\n",
    "- Tool 1: Get current Time\n",
    "- Tool 2: Get weather from IP\n",
    "- Tool 3: Write a Text File\n",
    "- Tool 4: Generate a QR Code"
   ]
  },
  {
   "cell_type": "code",
   "execution_count": 7,
   "metadata": {},
   "outputs": [],
   "source": [
    "from datetime import datetime\n",
    "\n",
    "def get_current_time():\n",
    "    \"\"\"\n",
    "    Returns the current time as a string.\n",
    "    \"\"\"\n",
    "    return datetime.now().strftime(\"%H:%M:%S\")\n",
    "\n",
    "\n",
    "import requests\n",
    "import qrcode\n",
    "from qrcode.image.styledpil import StyledPilImage\n",
    "\n",
    "\n",
    "def get_weather_from_ip():\n",
    "    \"\"\"\n",
    "    Gets the current, high, and low temperature in Fahrenheit for the user's\n",
    "    location and returns it to the user.\n",
    "    \"\"\"\n",
    "    # Get location coordinates from the IP address\n",
    "    lat, lon = requests.get('https://ipinfo.io/json').json()['loc'].split(',')\n",
    "\n",
    "    # Set parameters for the weather API call\n",
    "    params = {\n",
    "        \"latitude\": lat,\n",
    "        \"longitude\": lon,\n",
    "        \"current\": \"temperature_2m\",\n",
    "        \"daily\": \"temperature_2m_max,temperature_2m_min\",\n",
    "        \"temperature_unit\": \"fahrenheit\",\n",
    "        \"timezone\": \"auto\"\n",
    "    }\n",
    "\n",
    "    # Get weather data\n",
    "    weather_data = requests.get(\"https://api.open-meteo.com/v1/forecast\", params=params).json()\n",
    "\n",
    "    # Format and return the simplified string\n",
    "    return (\n",
    "        f\"Current: {weather_data['current']['temperature_2m']}°F, \"\n",
    "        f\"High: {weather_data['daily']['temperature_2m_max'][0]}°F, \"\n",
    "        f\"Low: {weather_data['daily']['temperature_2m_min'][0]}°F\"\n",
    "    )\n",
    "\n",
    "# Write a text file\n",
    "def write_txt_file(file_path: str, content: str):\n",
    "    \"\"\"\n",
    "    Write a string into a .txt file (overwrites if exists).\n",
    "    Args:\n",
    "        file_path (str): Destination path.\n",
    "        content (str): Text to write.\n",
    "    Returns:\n",
    "        str: Path to the written file.\n",
    "    \"\"\"\n",
    "    with open(file_path, \"w\", encoding=\"utf-8\") as f:\n",
    "        f.write(content)\n",
    "    return file_path\n",
    "\n",
    "\n",
    "# Create a QR code\n",
    "def generate_qr_code(data: str, filename: str, image_path: str):\n",
    "    \"\"\"Generate a QR code image given data and an image path.\n",
    "\n",
    "    Args:\n",
    "        data: Text or URL to encode\n",
    "        filename: Name for the output PNG file (without extension)\n",
    "        image_path: Path to the image to be used in the QR code\n",
    "    \"\"\"\n",
    "    qr = qrcode.QRCode(error_correction=qrcode.constants.ERROR_CORRECT_H)\n",
    "    qr.add_data(data)\n",
    "\n",
    "    img = qr.make_image(image_factory=StyledPilImage, embedded_image_path=image_path)\n",
    "    output_file = f\"{filename}.png\"\n",
    "    img.save(output_file)\n",
    "\n",
    "    return f\"QR code saved as {output_file} containing: {data[:50]}...\""
   ]
  },
  {
   "cell_type": "code",
   "execution_count": 8,
   "metadata": {},
   "outputs": [],
   "source": [
    "prompt = \"Can you get the weather for my location?\""
   ]
  },
  {
   "cell_type": "code",
   "execution_count": 9,
   "metadata": {},
   "outputs": [
    {
     "data": {
      "text/html": [
       "\n",
       "                <div style=\"border-left: 4px solid #444; margin: 10px 0; padding: 10px; background: #f0f0f0;\">\n",
       "                    <strong style=\"color:#222;\">🧠 LLM Action:</strong> <code>get_weather_from_ip</code>\n",
       "                    <pre style=\"color:#000; font-size:13px;\">{}</pre>\n",
       "                </div>\n",
       "                \n",
       "            <div style=\"border-left: 4px solid #007bff; margin: 10px 0; padding: 10px; background: #eef6ff;\">\n",
       "                <strong style=\"color:#222;\">🔧 Tool Response:</strong> <code>get_weather_from_ip</code>\n",
       "                <pre style=\"color:#000; font-size:13px;\">\"Current: 54.5\\u00b0F, High: 56.2\\u00b0F, Low: 39.1\\u00b0F\"</pre>\n",
       "            </div>\n",
       "            \n",
       "    <div style=\"border-left: 4px solid #28a745; margin: 20px 0; padding: 10px; background: #eafbe7;\">\n",
       "        <strong style=\"color:#222;\">✅ Final Assistant Message:</strong>\n",
       "        <p style=\"color:#000;\">The current temperature at your location is 54.5°F. Today’s high is expected to reach 56.2°F, with a low of 39.1°F.</p>\n",
       "    </div>\n",
       "    \n",
       "        <div style=\"border-left: 4px solid #666; margin: 20px 0; padding: 10px; background: #f8f9fa;\">\n",
       "            <strong style=\"color:#222;\">🧭 Tool Sequence:</strong>\n",
       "            <p style=\"color:#000;\">get_weather_from_ip</p>\n",
       "        </div>\n",
       "        "
      ],
      "text/plain": [
       "<IPython.core.display.HTML object>"
      ]
     },
     "metadata": {},
     "output_type": "display_data"
    }
   ],
   "source": [
    "\n",
    "response = client.chat.completions.create(\n",
    "    model=\"openai:o4-mini\",\n",
    "    messages=[{\"role\": \"user\", \"content\": (\n",
    "        prompt\n",
    "    )}],\n",
    "    tools=[\n",
    "        get_current_time,\n",
    "        get_weather_from_ip,\n",
    "        write_txt_file,\n",
    "        generate_qr_code\n",
    "    ],\n",
    "    max_turns=5\n",
    ")\n",
    "\n",
    "display_functions.pretty_print_chat_completion(response)"
   ]
  },
  {
   "cell_type": "code",
   "execution_count": 10,
   "metadata": {},
   "outputs": [
    {
     "data": {
      "text/html": [
       "\n",
       "                <div style=\"border-left: 4px solid #444; margin: 10px 0; padding: 10px; background: #f0f0f0;\">\n",
       "                    <strong style=\"color:#222;\">🧠 LLM Action:</strong> <code>generate_qr_code</code>\n",
       "                    <pre style=\"color:#000; font-size:13px;\">{\n",
       "  \"data\": \"https://gauthiii.github.io\",\n",
       "  \"filename\": \"gauthiii_qr\",\n",
       "  \"image_path\": \"\"\n",
       "}</pre>\n",
       "                </div>\n",
       "                \n",
       "            <div style=\"border-left: 4px solid #007bff; margin: 10px 0; padding: 10px; background: #eef6ff;\">\n",
       "                <strong style=\"color:#222;\">🔧 Tool Response:</strong> <code>generate_qr_code</code>\n",
       "                <pre style=\"color:#000; font-size:13px;\">\"QR code saved as gauthiii_qr.png containing: https://gauthiii.github.io...\"</pre>\n",
       "            </div>\n",
       "            \n",
       "    <div style=\"border-left: 4px solid #28a745; margin: 20px 0; padding: 10px; background: #eafbe7;\">\n",
       "        <strong style=\"color:#222;\">✅ Final Assistant Message:</strong>\n",
       "        <p style=\"color:#000;\">Your QR code has been generated and saved as “gauthiii_qr.png”. You can scan it to quickly open https://gauthiii.github.io.</p>\n",
       "    </div>\n",
       "    \n",
       "        <div style=\"border-left: 4px solid #666; margin: 20px 0; padding: 10px; background: #f8f9fa;\">\n",
       "            <strong style=\"color:#222;\">🧭 Tool Sequence:</strong>\n",
       "            <p style=\"color:#000;\">generate_qr_code</p>\n",
       "        </div>\n",
       "        "
      ],
      "text/plain": [
       "<IPython.core.display.HTML object>"
      ]
     },
     "metadata": {},
     "output_type": "display_data"
    }
   ],
   "source": [
    "\n",
    "response = client.chat.completions.create(\n",
    "    model=\"openai:o4-mini\",\n",
    "    messages=[{\"role\": \"user\", \"content\": (\n",
    "        \"Generate me a QR code that links to gauthiii.github.io\"\n",
    "    )}],\n",
    "    tools=[\n",
    "        get_current_time,\n",
    "        get_weather_from_ip,\n",
    "        write_txt_file,\n",
    "        generate_qr_code\n",
    "    ],\n",
    "    max_turns=5\n",
    ")\n",
    "\n",
    "display_functions.pretty_print_chat_completion(response)"
   ]
  }
 ],
 "metadata": {
  "kernelspec": {
   "display_name": "venv",
   "language": "python",
   "name": "python3"
  },
  "language_info": {
   "codemirror_mode": {
    "name": "ipython",
    "version": 3
   },
   "file_extension": ".py",
   "mimetype": "text/x-python",
   "name": "python",
   "nbconvert_exporter": "python",
   "pygments_lexer": "ipython3",
   "version": "3.12.6"
  }
 },
 "nbformat": 4,
 "nbformat_minor": 2
}
