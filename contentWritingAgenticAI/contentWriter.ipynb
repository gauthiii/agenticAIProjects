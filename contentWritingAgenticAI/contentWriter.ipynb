{
 "cells": [
  {
   "cell_type": "markdown",
   "metadata": {},
   "source": [
    "### Uses 3 Agents\n",
    "\n",
    "User Input → Agent 1 → Generates Draft → Agent 2 → Reflect and get Feedback → Agent 3 → Refine Based on the feedback → Final Content"
   ]
  },
  {
   "cell_type": "code",
   "execution_count": null,
   "metadata": {},
   "outputs": [],
   "source": [
    "from dotenv import load_dotenv\n",
    "\n",
    "load_dotenv()\n",
    "\n",
    "import aisuite as ai\n",
    "\n",
    "# Define the client. You can use this variable inside the functions!\n",
    "CLIENT = ai.Client()"
   ]
  },
  {
   "cell_type": "markdown",
   "metadata": {},
   "source": [
    "### Step 1 - Generating a Content / Essay"
   ]
  },
  {
   "cell_type": "code",
   "execution_count": 2,
   "metadata": {},
   "outputs": [],
   "source": [
    "# generate_draft\n",
    "\n",
    "def generate_draft(topic: str, model: str = \"openai:gpt-4o\") -> str: \n",
    "    \n",
    "    ### START CODE HERE ###\n",
    "\n",
    "    # Define your prompt here. A multi-line f-string is typically used for this.\n",
    "    prompt = f'''\n",
    "    \n",
    "    You are a meticulous research agent.\n",
    "    \n",
    "    Draft a complete essay on the following topic: {topic}\n",
    "    \n",
    "    It must include a neat\n",
    "    \n",
    "    - introduction\n",
    "    - main content\n",
    "    - advantages\n",
    "    - disadvantages\n",
    "    - conclusion\n",
    "    \n",
    "    \n",
    "    ''' \n",
    "\n",
    "    ### END CODE HERE ###\n",
    "    \n",
    "    # Get a response from the LLM by creating a chat with the client.\n",
    "    response = CLIENT.chat.completions.create(\n",
    "        model=model,\n",
    "        messages=[{\"role\": \"user\", \"content\": prompt}],\n",
    "        temperature=1.0,\n",
    "    )\n",
    "\n",
    "    return response.choices[0].message.content"
   ]
  },
  {
   "cell_type": "code",
   "execution_count": null,
   "metadata": {},
   "outputs": [
    {
     "data": {
      "text/html": [
       "\n",
       "    <div style=\"\n",
       "        border: 1px solid #ccc;\n",
       "        border-radius: 10px;\n",
       "        padding: 15px;\n",
       "        margin-bottom: 15px;\n",
       "        background-color: #fff8dc;\n",
       "        color: #333333;\n",
       "    \">\n",
       "        <h3 style=\"margin-top: 0;\">Step 1 – Draft</h3>\n",
       "        <pre style=\"\n",
       "            white-space: pre-wrap;\n",
       "            font-family: monospace;\n",
       "            font-size: 14px;\n",
       "        \">**Is AI the New Electricity that is Going to Change All Industries?**\n",
       "\n",
       "**Introduction**\n",
       "\n",
       "In the modern digital era, one of the most significant advancements in technology is Artificial Intelligence (AI). The surge in AI research and deployment parallels the revolutionary impact of electricity in the late 19th and early 20th centuries. Electricity transformed countless industries, reshaping economies, societies, and daily life. Today, AI is poised to usher in a similar transformative wave across various sectors. As the backbone of innovation, its potential to automate processes, provide insights, and enhance decision-making is virtually unparalleled. But is AI truly the new electricity, destined to change all industries in a similar fashion? This essay delves into the transformative capabilities of AI, its advantages and disadvantages, and assesses whether it can be equated with the revolutionary power of electricity.\n",
       "\n",
       "**Main Content**\n",
       "\n",
       "AI refers to the simulation of human intelligence processes by machines, especially computer systems. These processes include learning, reasoning, problem solving, perception, and language understanding. AI has made significant strides with technologies like machine learning, natural language processing, and neural networks. Its capabilities are broad, enabling applications in healthcare, finance, manufacturing, entertainment, logistics, and more.\n",
       "\n",
       "The analogy between AI and electricity is compelling. Electricity, once harnessed, acted as a general-purpose technology, propelling industrialization by enabling new manufacturing processes and powering innovations like the telephone and the light bulb. AI, similarly, has the versatility to transform core functions across industries. However, unlike electricity, which primarily facilitated power supply, AI introduces cognitive capabilities, potentially disrupting how decisions are made and tasks are performed.\n",
       "\n",
       "**Advantages**\n",
       "\n",
       "One of the primary advantages of AI is automation. Automated systems powered by AI can perform tasks more efficiently and accurately than humans. In industries such as manufacturing, AI can optimize supply chains, increase production rates, and enhance quality control. AI-driven analytics enable businesses to extract valuable insights from vast amounts of data, enabling better forecasting, risk management, and strategic planning.\n",
       "\n",
       "In healthcare, AI has already shown its potential by improving diagnostics, personalizing patient care, and accelerating drug discovery. Financial services benefit from AI's capability to detect fraudulent activity and automate complex transactions. In transportation, AI is key to developing autonomous vehicles, which promise to revolutionize personal and commercial transport.\n",
       "\n",
       "AI not only enhances productivity but also aids in problem-solving and innovation. By processing information and identifying patterns at unprecedented speed and scale, AI systems can inspire new inventions, optimize resource utilization, and create new business models.\n",
       "\n",
       "**Disadvantages**\n",
       "\n",
       "Despite its transformative potential, AI also presents challenges. Foremost among these is the risk of job displacement. Automation by AI systems could lead to significant restructuring of labor markets, potentially resulting in job losses across various sectors. Though AI is likely to create new jobs, these positions may require skills that are not currently widespread, necessitating extensive workforce retraining and education.\n",
       "\n",
       "Moreover, AI systems require vast amounts of data, raising concerns about privacy and security. The concentration of data in AI systems poses risks of misuse and breaches, further complicated by ethical considerations regarding surveillance and consent. Bias in AI algorithms is another critical issue. If AI is trained on biased data, it may perpetuate or even exacerbate existing societal inequalities.\n",
       "\n",
       "There are also intellectual property and competitive concerns. Leading in AI technology can create substantial economic and geopolitical advantages, potentially leading to uneven global development and tensions.\n",
       "\n",
       "**Conclusion**\n",
       "\n",
       "AI holds immense potential to be the new electricity, with its transformative power across industries seeming boundless. It offers remarkable advantages in automation, decision-making, and innovation, driving efficiency and enabling new possibilities. However, the challenges associated with AI, including job displacement, privacy concerns, and bias, must be addressed thoughtfully. As society navigates the integration of AI, it becomes essential to balance technological progress with ethical considerations, ensuring that its benefits are shared equitably across all sectors and communities.\n",
       "\n",
       "Ultimately, AI's impact may mirror that of electricity in terms of scope and scale, fundamentally reshaping industries and economies. Yet, unlike electricity, AI's cognitive and decision-making capacities make its integration more complex. Therefore, while AI possesses the potential to redefine the fabric of society akin to electricity's revolution, it demands careful management to harness its power responsibly, ensuring a future that benefits all.</pre>\n",
       "    </div>\n",
       "    "
      ],
      "text/plain": [
       "<IPython.core.display.HTML object>"
      ]
     },
     "metadata": {},
     "output_type": "display_data"
    }
   ],
   "source": [
    "essay_prompt = \"Is AI the new electricity that is gonna change all industries?\"\n",
    "\n",
    "# Agent 1 – Draft\n",
    "draft = generate_draft(essay_prompt)\n",
    "\n",
    "from utils import show_output\n",
    "show_output(\"Step 1 – Draft\", draft, background=\"#fff8dc\", text_color=\"#333333\")"
   ]
  },
  {
   "cell_type": "markdown",
   "metadata": {},
   "source": [
    "### Step 2 - Refelecting on the draft"
   ]
  },
  {
   "cell_type": "code",
   "execution_count": 4,
   "metadata": {},
   "outputs": [],
   "source": [
    "# reflect_on_draft\n",
    "\n",
    "def reflect_on_draft(draft: str, model: str = \"openai:o4-mini\") -> str:\n",
    "\n",
    "    ### START CODE HERE ###\n",
    "\n",
    "    # Define your prompt here. A multi-line f-string is typically used for this.\n",
    "    prompt = f'''\n",
    "    \n",
    "    You are going to provide a constuctive criticism on the following essay:\n",
    "    \n",
    "    {draft}\n",
    "    \n",
    "    The feedback for the essay should be critical but constructive and they must address the:\n",
    "    \n",
    "    - structure\n",
    "    - clarity\n",
    "    - strength of the argument\n",
    "    - writing style\n",
    "    \n",
    "    \n",
    "    ''' \n",
    "\n",
    "    ### END CODE HERE ###\n",
    "\n",
    "    # Get a response from the LLM by creating a chat with the client.\n",
    "    response = CLIENT.chat.completions.create(\n",
    "        model=model,\n",
    "        messages=[{\"role\": \"user\", \"content\": prompt}],\n",
    "        temperature=1.0,\n",
    "    )\n",
    "\n",
    "    return response.choices[0].message.content"
   ]
  },
  {
   "cell_type": "code",
   "execution_count": 5,
   "metadata": {},
   "outputs": [
    {
     "data": {
      "text/html": [
       "\n",
       "    <div style=\"\n",
       "        border: 1px solid #ccc;\n",
       "        border-radius: 10px;\n",
       "        padding: 15px;\n",
       "        margin-bottom: 15px;\n",
       "        background-color: #e0f7fa;\n",
       "        color: #222222;\n",
       "    \">\n",
       "        <h3 style=\"margin-top: 0;\">Step 2 – Reflection</h3>\n",
       "        <pre style=\"\n",
       "            white-space: pre-wrap;\n",
       "            font-family: monospace;\n",
       "            font-size: 14px;\n",
       "        \">Here is a targeted, constructive critique of your essay, organized by the four areas you asked about:\n",
       "\n",
       "1. Structure  \n",
       "  • Introduction and Conclusion are in place, but the body feels like one long section. Consider breaking “Main Content” into smaller subsections with clear subheadings (e.g., “What Is AI?”, “Historical Parallel to Electricity,” “Sector-by-Sector Impact,” “Ethical Challenges”).  \n",
       "  • The flow from advantages to disadvantages is logical, but you could interleave them—e.g., discuss both sides in each industry—to make your narrative more dynamic.  \n",
       "  • Your conclusion restates earlier points; a stronger close might project future scenarios or pose open questions to engage readers further.\n",
       "\n",
       "2. Clarity  \n",
       "  • You define AI broadly, which risks vagueness. Tighten your definition by focusing on a couple of core technologies (e.g., deep learning, reinforcement learning)  \n",
       "  • Some sentences are long and packed with ideas (for instance, the opening of the third paragraph under “Advantages”). Try splitting them or using bullet lists to improve readability.  \n",
       "  • Terms like “general-purpose technology” and “cognitive capabilities” are accurate but abstract—give a quick, concrete example to anchor them (“for example, an AI model that schedules factory maintenance”).\n",
       "\n",
       "3. Strength of the Argument  \n",
       "  • The electricity analogy is a strong hook, but you need data or case studies—such as percentage improvements in manufacturing yield or cost savings in healthcare diagnostics—to substantiate your claims.  \n",
       "  • You note job displacement and bias, but you could deepen your analysis by citing specific studies or historical parallels (e.g., automation in 20th-century factories).  \n",
       "  • The question “Is AI the new electricity…?” is never directly answered; you lean toward “yes,” but you might better serve readers by weighing counterexamples (industries where AI has struggled) before reaching your verdict.\n",
       "\n",
       "4. Writing Style  \n",
       "  • Your tone is appropriately formal, but passages occasionally slip into jargon or clichés (“virtually unparalleled,” “boundless potential”). Aim for more precise language.  \n",
       "  • Watch for passive constructions (“AI has been shown,” “It is poised”); active voice will make your prose more engaging (“Researchers have shown…, AI will transform…”).  \n",
       "  • Vary sentence length and structure to maintain reader interest—short, punchy sentences can follow longer, complex ones to create rhythm.\n",
       "\n",
       "Overall, you have a solid foundation and a compelling premise. Sharpen your structure with clear subsections, bolster your claims with concrete examples or data, and refine your prose for precision and engagement. This will turn a good overview into a truly persuasive and memorable essay.</pre>\n",
       "    </div>\n",
       "    "
      ],
      "text/plain": [
       "<IPython.core.display.HTML object>"
      ]
     },
     "metadata": {},
     "output_type": "display_data"
    }
   ],
   "source": [
    "# Agent 2 – Reflection\n",
    "feedback = reflect_on_draft(draft)\n",
    "\n",
    "show_output(\"Step 2 – Reflection\", feedback, background=\"#e0f7fa\", text_color=\"#222222\")"
   ]
  },
  {
   "cell_type": "markdown",
   "metadata": {},
   "source": [
    "### Step 3 - Revise the Draft"
   ]
  },
  {
   "cell_type": "code",
   "execution_count": 6,
   "metadata": {},
   "outputs": [],
   "source": [
    "# revise_draft\n",
    "\n",
    "def revise_draft(original_draft: str, reflection: str, model: str = \"openai:gpt-4o\") -> str:\n",
    "\n",
    "    ### START CODE HERE ###\n",
    "\n",
    "    # Define your prompt here. A multi-line f-string is typically used for this.\n",
    "    prompt = f'''\n",
    "    \n",
    "    You are going to revise the following essay\n",
    "    based on the necessary feedback.\n",
    "    \n",
    "    The essay is: {original_draft}\n",
    "    \n",
    "    The feedback is: {reflection}\n",
    "    \n",
    "    The revised essay should address the feedback mentioned above.\n",
    "    It should improve the following:\n",
    "    - clarity\n",
    "    - coherence\n",
    "    - argument strength\n",
    "    - overall flow\n",
    "    \n",
    "    Return only the revised essay.\n",
    "    \n",
    "    \n",
    "    ''' \n",
    "\n",
    "    # Get a response from the LLM by creating a chat with the client.\n",
    "    response = CLIENT.chat.completions.create(\n",
    "        model=model,\n",
    "        messages=[{\"role\": \"user\", \"content\": prompt}],\n",
    "        temperature=1.0,\n",
    "    )\n",
    "\n",
    "    ### END CODE HERE ###\n",
    "\n",
    "    return response.choices[0].message.content"
   ]
  },
  {
   "cell_type": "code",
   "execution_count": 8,
   "metadata": {},
   "outputs": [
    {
     "data": {
      "text/html": [
       "\n",
       "    <div style=\"\n",
       "        border: 1px solid #ccc;\n",
       "        border-radius: 10px;\n",
       "        padding: 15px;\n",
       "        margin-bottom: 15px;\n",
       "        background-color: #f3e5f5;\n",
       "        color: #222222;\n",
       "    \">\n",
       "        <h3 style=\"margin-top: 0;\">Step 3 – Revision</h3>\n",
       "        <pre style=\"\n",
       "            white-space: pre-wrap;\n",
       "            font-family: monospace;\n",
       "            font-size: 14px;\n",
       "        \">**Is AI the New Electricity that is Going to Change All Industries?**\n",
       "\n",
       "**Introduction**\n",
       "\n",
       "In today's digital landscape, one of the most profound technological advancements is Artificial Intelligence (AI). The current surge in AI research and deployment echoes the revolutionary impact of electricity during the late 19th and early 20th centuries. Electricity transformed industries, reshaping economies, societies, and daily life. Similarly, AI is poised to initiate a transformative wave across diverse sectors. Its capacity to automate processes, offer insights, and improve decision-making is remarkable. But can AI truly be considered the new electricity, capable of changing all industries? This essay explores AI's transformative potential, its advantages and disadvantages, and evaluates whether its impact can match the revolutionary power of electricity.\n",
       "\n",
       "**What Is AI?**\n",
       "\n",
       "AI involves the simulation of human intelligence by machines, particularly computer systems. Key technologies include deep learning, where algorithms learn from large datasets, and reinforcement learning, where systems improve through feedback and iteration. AI applications span healthcare, finance, manufacturing, entertainment, and logistics, among others.\n",
       "\n",
       "**Historical Parallel to Electricity**\n",
       "\n",
       "Comparing AI to electricity offers a strong analogy. Electricity acted as a general-purpose technology, driving industrialization by enabling new manufacturing processes and innovations. AI, with its cognitive abilities, holds similar potential to revolutionize industries by altering decision-making and task execution. For example, AI models can optimize factory maintenance schedules, showcasing its transformative capacity. However, unlike electricity's primary role in power supply, AI introduces cognitive capabilities, fundamentally reshaping work processes.\n",
       "\n",
       "**Sector-by-Sector Impact**\n",
       "\n",
       "In manufacturing, AI enhances automation, optimizing supply chains, increasing production rates, and improving quality control. AI-driven analytics extract valuable insights from extensive data, bolstering forecasting, risk management, and strategic planning. In healthcare, AI augments diagnostics, personalizes care, and accelerates drug discovery. Financial services benefit from AI’s prowess in detecting fraudulent activity and automating transactions. The transportation industry is on the brink of revolution, courtesy of AI's role in developing autonomous vehicles.\n",
       "\n",
       "**Advantages and Disadvantages**\n",
       "\n",
       "AI offers remarkable benefits, chiefly automation. AI-powered systems outperform humans in efficiency and accuracy, inspiring new inventions, optimizing resource utilization, and spurring new business models. Yet, challenges abound. Job displacement looms large as AI reshapes labor markets. Although AI is likely to create new jobs, they may require skills that are not universally widespread, necessitating extensive retraining and education.\n",
       "\n",
       "Moreover, the vast data requirements of AI systems raise privacy and security concerns. Data concentration in AI systems poses misuse risks and breaches, further complicated by surveillance and consent ethics. Bias in AI algorithms is also problematic; AI trained on biased data may perpetuate societal inequalities. Additionally, AI's dominance could result in intellectual property and competitive challenges, potentially fostering uneven global development and tensions.\n",
       "\n",
       "**Conclusion**\n",
       "\n",
       "AI holds immense promise, akin to electricity, with transformative power seemingly boundless across industries. It offers significant advantages in automation and decision-making, driving efficiency and enabling new possibilities. However, challenges such as job displacement, privacy concerns, and bias must be navigated carefully. As society integrates AI, balancing technological advances with ethical considerations is essential, ensuring its benefits are equitably distributed across all sectors and communities.\n",
       "\n",
       "While AI's impact may mirror electricity in scale and scope, its cognitive capacities make integration more complex. Thus, AI has the potential to redefine societal fabric like electricity did, but it requires responsible management to harness its power wisely, ensuring a future that benefits everyone.</pre>\n",
       "    </div>\n",
       "    "
      ],
      "text/plain": [
       "<IPython.core.display.HTML object>"
      ]
     },
     "metadata": {},
     "output_type": "display_data"
    }
   ],
   "source": [
    "# Agent 3 – Revision\n",
    "revised = revise_draft(draft, feedback)\n",
    "\n",
    "show_output(\"Step 3 – Revision\", revised, background=\"#f3e5f5\", text_color=\"#222222\")"
   ]
  }
 ],
 "metadata": {
  "kernelspec": {
   "display_name": "venv",
   "language": "python",
   "name": "python3"
  },
  "language_info": {
   "codemirror_mode": {
    "name": "ipython",
    "version": 3
   },
   "file_extension": ".py",
   "mimetype": "text/x-python",
   "name": "python",
   "nbconvert_exporter": "python",
   "pygments_lexer": "ipython3",
   "version": "3.12.6"
  }
 },
 "nbformat": 4,
 "nbformat_minor": 2
}
